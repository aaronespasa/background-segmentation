{
 "cells": [
  {
   "cell_type": "markdown",
   "metadata": {},
   "source": [
    "## **Test the Model**"
   ]
  },
  {
   "cell_type": "code",
   "execution_count": 2,
   "metadata": {},
   "outputs": [],
   "source": [
    "import torch\n",
    "from utils import test_model"
   ]
  },
  {
   "cell_type": "markdown",
   "metadata": {},
   "source": [
    "### 1. Encoder: SegFormer (MitB3) - Decoder: UNet"
   ]
  },
  {
   "cell_type": "code",
   "execution_count": null,
   "metadata": {},
   "outputs": [],
   "source": [
    "params = {\n",
    "    \"encoder_name\": \"mit_b3\",\n",
    "    \"decoder_name\": \"unet\",\n",
    "    \"checkpoint_name\": \"\",\n",
    "    \"split_set\": \"test\",\n",
    "    \"HEIGHT\": 512,\n",
    "    \"WIDTH\": 384,\n",
    "    \"DEVICE\": torch.device(\"cuda\" if torch.cuda.is_available() else \"cpu\")\n",
    "}\n",
    "\n",
    "test_model(**params)"
   ]
  },
  {
   "cell_type": "markdown",
   "metadata": {},
   "source": [
    "### 2. Encoder: SegFormer (MitB3) - Decoder: MANet"
   ]
  },
  {
   "cell_type": "code",
   "execution_count": null,
   "metadata": {},
   "outputs": [],
   "source": [
    "params = {\n",
    "    \"encoder_name\": \"mit_b3\",\n",
    "    \"decoder_name\": \"manet\",\n",
    "    \"checkpoint_name\": \"\",\n",
    "    \"split_set\": \"test\",\n",
    "    \"HEIGHT\": 512,\n",
    "    \"WIDTH\": 384,\n",
    "    \"DEVICE\": torch.device(\"cuda\" if torch.cuda.is_available() else \"cpu\")\n",
    "}\n",
    "\n",
    "test_model(**params)"
   ]
  },
  {
   "cell_type": "markdown",
   "metadata": {},
   "source": [
    "### 3. Encoder: SegFormer (MitB3) - Decoder: FPN"
   ]
  },
  {
   "cell_type": "code",
   "execution_count": null,
   "metadata": {},
   "outputs": [],
   "source": [
    "params = {\n",
    "    \"encoder_name\": \"mit_b3\",\n",
    "    \"decoder_name\": \"fpn\",\n",
    "    \"checkpoint_name\": \"\",\n",
    "    \"split_set\": \"test\",\n",
    "    \"HEIGHT\": 512,\n",
    "    \"WIDTH\": 384,\n",
    "    \"DEVICE\": torch.device(\"cuda\" if torch.cuda.is_available() else \"cpu\")\n",
    "}\n",
    "\n",
    "test_model(**params)"
   ]
  },
  {
   "cell_type": "markdown",
   "metadata": {},
   "source": [
    "### 4. Encoder: ResNet50 - Decoder: UNet"
   ]
  },
  {
   "cell_type": "code",
   "execution_count": null,
   "metadata": {},
   "outputs": [],
   "source": [
    "params = {\n",
    "    \"encoder_name\": \"resnet50\",\n",
    "    \"decoder_name\": \"unet\",\n",
    "    \"checkpoint_name\": \"\",\n",
    "    \"split_set\": \"test\",\n",
    "    \"HEIGHT\": 512,\n",
    "    \"WIDTH\": 384,\n",
    "    \"DEVICE\": torch.device(\"cuda\" if torch.cuda.is_available() else \"cpu\")\n",
    "}\n",
    "\n",
    "test_model(**params)"
   ]
  },
  {
   "cell_type": "markdown",
   "metadata": {},
   "source": [
    "### 5. Encoder: ResNet50 - Decoder: FPN"
   ]
  },
  {
   "cell_type": "code",
   "execution_count": null,
   "metadata": {},
   "outputs": [],
   "source": [
    "params = {\n",
    "    \"encoder_name\": \"resnet50\",\n",
    "    \"decoder_name\": \"fpn\",\n",
    "    \"checkpoint_name\": \"\",\n",
    "    \"split_set\": \"test\",\n",
    "    \"HEIGHT\": 512,\n",
    "    \"WIDTH\": 384,\n",
    "    \"DEVICE\": torch.device(\"cuda\" if torch.cuda.is_available() else \"cpu\")\n",
    "}\n",
    "\n",
    "test_model(**params)"
   ]
  },
  {
   "cell_type": "markdown",
   "metadata": {},
   "source": [
    "### 6. Encoder: ResNet50 - Decoder: DeepLabV3"
   ]
  },
  {
   "cell_type": "code",
   "execution_count": null,
   "metadata": {},
   "outputs": [],
   "source": [
    "params = {\n",
    "    \"encoder_name\": \"resnet50\",\n",
    "    \"decoder_name\": \"deeplabv3\",\n",
    "    \"checkpoint_name\": \"\",\n",
    "    \"split_set\": \"test\",\n",
    "    \"HEIGHT\": 512,\n",
    "    \"WIDTH\": 384,\n",
    "    \"DEVICE\": torch.device(\"cuda\" if torch.cuda.is_available() else \"cpu\")\n",
    "}\n",
    "\n",
    "test_model(**params)"
   ]
  },
  {
   "cell_type": "markdown",
   "metadata": {},
   "source": [
    "### 7. Encoder: EfficientNet (B5) - Decoder: UNet"
   ]
  },
  {
   "cell_type": "code",
   "execution_count": null,
   "metadata": {},
   "outputs": [],
   "source": [
    "params = {\n",
    "    \"encoder_name\": \"efficientnet-b5\",\n",
    "    \"decoder_name\": \"unet\",\n",
    "    \"checkpoint_name\": \"\",\n",
    "    \"split_set\": \"test\",\n",
    "    \"HEIGHT\": 512,\n",
    "    \"WIDTH\": 384,\n",
    "    \"DEVICE\": torch.device(\"cuda\" if torch.cuda.is_available() else \"cpu\")\n",
    "}\n",
    "\n",
    "test_model(**params)"
   ]
  },
  {
   "cell_type": "markdown",
   "metadata": {},
   "source": [
    "### 8. Encoder: EfficientNet (B5) - Decoder: FPN"
   ]
  },
  {
   "cell_type": "code",
   "execution_count": null,
   "metadata": {},
   "outputs": [],
   "source": [
    "params = {\n",
    "    \"encoder_name\": \"efficientnet-b5\",\n",
    "    \"decoder_name\": \"fpn\",\n",
    "    \"checkpoint_name\": \"\",\n",
    "    \"split_set\": \"test\",\n",
    "    \"HEIGHT\": 512,\n",
    "    \"WIDTH\": 384,\n",
    "    \"DEVICE\": torch.device(\"cuda\" if torch.cuda.is_available() else \"cpu\")\n",
    "}\n",
    "\n",
    "test_model(**params)"
   ]
  },
  {
   "cell_type": "markdown",
   "metadata": {},
   "source": [
    "### 9. Encoder: MobileOne (S4) - Decoder: UNet"
   ]
  },
  {
   "cell_type": "code",
   "execution_count": null,
   "metadata": {},
   "outputs": [],
   "source": [
    "params = {\n",
    "    \"encoder_name\": \"mobileone_s4\",\n",
    "    \"decoder_name\": \"unet\",\n",
    "    \"checkpoint_name\": \"\",\n",
    "    \"split_set\": \"test\",\n",
    "    \"HEIGHT\": 512,\n",
    "    \"WIDTH\": 384,\n",
    "    \"DEVICE\": torch.device(\"cuda\" if torch.cuda.is_available() else \"cpu\")\n",
    "}\n",
    "\n",
    "test_model(**params)"
   ]
  },
  {
   "cell_type": "markdown",
   "metadata": {},
   "source": [
    "### 10. Encoder: MobileOne (S4) - Decoder: FPN"
   ]
  },
  {
   "cell_type": "code",
   "execution_count": null,
   "metadata": {},
   "outputs": [],
   "source": [
    "params = {\n",
    "    \"encoder_name\": \"mobileone_s4\",\n",
    "    \"decoder_name\": \"fpn\",\n",
    "    \"checkpoint_name\": \"\",\n",
    "    \"split_set\": \"test\",\n",
    "    \"HEIGHT\": 512,\n",
    "    \"WIDTH\": 384,\n",
    "    \"DEVICE\": torch.device(\"cuda\" if torch.cuda.is_available() else \"cpu\")\n",
    "}\n",
    "\n",
    "test_model(**params)"
   ]
  }
 ],
 "metadata": {
  "kernelspec": {
   "display_name": "venv",
   "language": "python",
   "name": "python3"
  },
  "language_info": {
   "codemirror_mode": {
    "name": "ipython",
    "version": 3
   },
   "file_extension": ".py",
   "mimetype": "text/x-python",
   "name": "python",
   "nbconvert_exporter": "python",
   "pygments_lexer": "ipython3",
   "version": "3.11.9"
  }
 },
 "nbformat": 4,
 "nbformat_minor": 2
}
