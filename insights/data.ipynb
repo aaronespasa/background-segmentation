{
 "cells": [
  {
   "cell_type": "code",
   "execution_count": null,
   "metadata": {},
   "outputs": [],
   "source": [
    "import torch\n",
    "import sys\n",
    "from pathlib import Path\n",
    "import os\n",
    "import matplotlib.pyplot as plt\n",
    "sys.path.insert(0, str(Path(os.path.abspath('')).parent))\n",
    "from utils import setup_data_loaders\n",
    "from dataset import TeethDataset"
   ]
  },
  {
   "cell_type": "code",
   "execution_count": null,
   "metadata": {},
   "outputs": [],
   "source": [
    "DATA_FOLDER = \"data\"\n",
    "\n",
    "train_dataset = TeethDataset(DATA_FOLDER, \"training\", True)\n",
    "\n",
    "# print the shape of a random image and its mask\n",
    "image, mask = train_dataset[1]\n",
    "print(f\"Image shape: {image.shape}\")\n",
    "print(f\"Mask shape: {mask.shape}\")"
   ]
  },
  {
   "cell_type": "markdown",
   "metadata": {},
   "source": [
    "Plot an image and a mask side by side:"
   ]
  },
  {
   "cell_type": "code",
   "execution_count": null,
   "metadata": {},
   "outputs": [],
   "source": [
    "fig, ax = plt.subplots(1, 2)\n",
    "ax[0].imshow(image[0], cmap=\"gray\")\n",
    "ax[1].imshow(mask[0])\n",
    "plt.show()"
   ]
  },
  {
   "cell_type": "markdown",
   "metadata": {},
   "source": [
    "Print the dimensions of an image and a mask:"
   ]
  },
  {
   "cell_type": "code",
   "execution_count": null,
   "metadata": {},
   "outputs": [],
   "source": [
    "# Print the dimensions of an image and a mask:\n",
    "print(f\"Image shape: {image.shape}\")\n",
    "print(f\"Mask shape: {mask.shape}\")"
   ]
  }
 ],
 "metadata": {
  "kernelspec": {
   "display_name": "venv",
   "language": "python",
   "name": "python3"
  },
  "language_info": {
   "name": "python",
   "version": "3.11.9"
  }
 },
 "nbformat": 4,
 "nbformat_minor": 2
}
