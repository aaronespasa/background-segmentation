{
 "cells": [
  {
   "cell_type": "markdown",
   "metadata": {},
   "source": [
    "# Teeth Segmentation"
   ]
  },
  {
   "cell_type": "code",
   "execution_count": null,
   "metadata": {},
   "outputs": [],
   "source": [
    "import torch\n",
    "from utils import setup_data_loaders, train_model, visualize_images_masks, visualize_sample, predict_with_color, plot_result\n",
    "from models import FastViTWithFPN, get_segformer_model, EfficientFormerWithFPN"
   ]
  },
  {
   "cell_type": "code",
   "execution_count": null,
   "metadata": {},
   "outputs": [],
   "source": [
    "DEVICE = torch.device(\"cuda\" if torch.cuda.is_available() else \"cpu\")\n",
    "BATCH_SIZE = 32 # 32\n",
    "HEIGHT = 256\n",
    "WIDTH = 256\n",
    "NUM_WORKERS = 3\n",
    "PIN_MEMORY = True\n",
    "LOAD_MODEL = False\n",
    "IS_EDGE_NEEDED = False\n",
    "TRAIN_ONE_BATCH = False"
   ]
  },
  {
   "cell_type": "code",
   "execution_count": null,
   "metadata": {},
   "outputs": [],
   "source": [
    "train_loader, val_loader = setup_data_loaders(BATCH_SIZE, NUM_WORKERS, PIN_MEMORY, image_height=HEIGHT, image_width=WIDTH)"
   ]
  }
 ],
 "metadata": {
  "language_info": {
   "name": "python"
  }
 },
 "nbformat": 4,
 "nbformat_minor": 2
}
